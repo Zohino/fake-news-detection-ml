{
 "cells": [
  {
   "cell_type": "markdown",
   "id": "de7526a2",
   "metadata": {},
   "source": [
    "# Publication\n",
    "\n",
    "## 1. Config and imports"
   ]
  },
  {
   "cell_type": "code",
   "execution_count": 7,
   "id": "0ebac278",
   "metadata": {},
   "outputs": [
    {
     "name": "stdout",
     "output_type": "stream",
     "text": [
      "The autoreload extension is already loaded. To reload it, use:\n",
      "  %reload_ext autoreload\n"
     ]
    }
   ],
   "source": [
    "import pandas as pd\n",
    "from src.config import PREDICTIONS_DIR\n",
    "\n",
    "%load_ext autoreload\n",
    "%autoreload 2"
   ]
  },
  {
   "cell_type": "markdown",
   "id": "53d0daf6",
   "metadata": {},
   "source": [
    "## 2. Load predictions"
   ]
  },
  {
   "cell_type": "code",
   "execution_count": 8,
   "id": "83137bb5",
   "metadata": {},
   "outputs": [],
   "source": [
    "predictions = pd.read_csv(PREDICTIONS_DIR / \"test_predictions.csv\")\n"
   ]
  },
  {
   "cell_type": "markdown",
   "id": "f441be27",
   "metadata": {},
   "source": [
    "## 3. Summary"
   ]
  },
  {
   "cell_type": "code",
   "execution_count": 9,
   "id": "26c88622",
   "metadata": {},
   "outputs": [
    {
     "name": "stdout",
     "output_type": "stream",
     "text": [
      "Predicted class distribution:\n",
      "label\n",
      "True     1669\n",
      "False     882\n",
      "Name: count, dtype: int64\n"
     ]
    }
   ],
   "source": [
    "print(\"Predicted class distribution:\")\n",
    "print(predictions[\"label\"].value_counts())"
   ]
  },
  {
   "cell_type": "markdown",
   "id": "79fca855",
   "metadata": {},
   "source": [
    "## 4. Save report"
   ]
  },
  {
   "cell_type": "code",
   "execution_count": 11,
   "id": "b6f582d9",
   "metadata": {},
   "outputs": [
    {
     "name": "stdout",
     "output_type": "stream",
     "text": [
      "✅ Sample predictions saved to reports/\n"
     ]
    }
   ],
   "source": [
    "predictions.head().to_markdown(\"../reports/sample-predictions.md\")\n",
    "print(\"✅ Sample predictions saved to reports/\")"
   ]
  }
 ],
 "metadata": {
  "kernelspec": {
   "display_name": ".venv",
   "language": "python",
   "name": "python3"
  },
  "language_info": {
   "codemirror_mode": {
    "name": "ipython",
    "version": 3
   },
   "file_extension": ".py",
   "mimetype": "text/x-python",
   "name": "python",
   "nbconvert_exporter": "python",
   "pygments_lexer": "ipython3",
   "version": "3.12.3"
  }
 },
 "nbformat": 4,
 "nbformat_minor": 5
}
