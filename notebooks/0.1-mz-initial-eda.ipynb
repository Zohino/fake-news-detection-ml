{
 "cells": [
  {
   "cell_type": "markdown",
   "id": "1f8221bc",
   "metadata": {},
   "source": [
    "# Initial exploratory data analysis\n",
    "\n",
    "## 1. Imports and configuration"
   ]
  },
  {
   "cell_type": "code",
   "execution_count": null,
   "id": "328b4171",
   "metadata": {},
   "outputs": [],
   "source": [
    "import pandas as pd\n",
    "import matplotlib.pyplot as plt\n",
    "import seaborn as sns\n",
    "from src.config import DATA_FILES\n",
    "\n",
    "# Set plotting style\n",
    "sns.set(style=\"whitegrid\")\n",
    "%load_ext autoreload\n",
    "%autoreload 2\n"
   ]
  },
  {
   "cell_type": "markdown",
   "id": "aa5f94c4",
   "metadata": {},
   "source": [
    "## 2. Load data"
   ]
  },
  {
   "cell_type": "code",
   "execution_count": null,
   "id": "d6aed48e",
   "metadata": {},
   "outputs": [],
   "source": [
    "# Load training and test datasets\n",
    "train_path = DATA_FILES[\"train_raw\"]\n",
    "test_path = DATA_FILES[\"test_raw\"]\n",
    "\n",
    "train_df = pd.read_csv(train_path)\n",
    "test_df = pd.read_csv(test_path)\n",
    "\n",
    "print(\"✅ Data loaded successfully.\")\n"
   ]
  },
  {
   "cell_type": "markdown",
   "id": "38b88d93",
   "metadata": {},
   "source": [
    "## 3. Basic info"
   ]
  },
  {
   "cell_type": "code",
   "execution_count": null,
   "id": "e1fc8715",
   "metadata": {},
   "outputs": [],
   "source": [
    "# Train set info\n",
    "print(\"📘 Training Set Info\")\n",
    "display(train_df.info())\n",
    "display(train_df.head())\n",
    "\n",
    "# Test set info\n",
    "print(\"📗 Test Set Info\")\n",
    "display(test_df.info())\n",
    "display(test_df.head())\n"
   ]
  },
  {
   "cell_type": "markdown",
   "id": "433d24a7",
   "metadata": {},
   "source": [
    "## 4. Data shape\n"
   ]
  },
  {
   "cell_type": "code",
   "execution_count": null,
   "id": "02ac51f3",
   "metadata": {},
   "outputs": [],
   "source": [
    "print(f\"Training set shape: {train_df.shape}\")\n",
    "print(f\"Test set shape: {test_df.shape}\")\n"
   ]
  },
  {
   "cell_type": "markdown",
   "id": "de12a064",
   "metadata": {},
   "source": [
    "## 5. Missing values\n"
   ]
  },
  {
   "cell_type": "code",
   "execution_count": null,
   "id": "c886cda8",
   "metadata": {},
   "outputs": [],
   "source": [
    "print(\"Missing values (Train):\")\n",
    "display(train_df.isnull().sum())\n",
    "\n",
    "print(\"\\nMissing values (Test):\")\n",
    "display(test_df.isnull().sum())\n"
   ]
  },
  {
   "cell_type": "markdown",
   "id": "503718ce",
   "metadata": {},
   "source": [
    "## 6. Target column distribution\n"
   ]
  },
  {
   "cell_type": "code",
   "execution_count": null,
   "id": "21cc42ac",
   "metadata": {},
   "outputs": [],
   "source": [
    "# Plot class balance\n",
    "sns.countplot(x=\"label\", data=train_df)\n",
    "plt.title(\"Class Distribution in Training Set\")\n",
    "plt.xlabel(\"Label (0 = Real, 1 = Fake)\")\n",
    "plt.ylabel(\"Count\")\n",
    "plt.show()\n",
    "\n",
    "print(train_df[\"label\"].value_counts(normalize=True))\n"
   ]
  },
  {
   "cell_type": "markdown",
   "id": "e47247ec",
   "metadata": {},
   "source": [
    "## 7. Text length distribution"
   ]
  },
  {
   "cell_type": "code",
   "execution_count": null,
   "id": "458a2c6c",
   "metadata": {},
   "outputs": [],
   "source": [
    "# Text length analysis\n",
    "train_df[\"text_length\"] = train_df[\"text\"].astype(str).apply(len)\n",
    "\n",
    "sns.histplot(train_df[\"text_length\"], bins=50)\n",
    "plt.title(\"Text Length Distribution\")\n",
    "plt.xlabel(\"Number of Characters\")\n",
    "plt.ylabel(\"Frequency\")\n",
    "plt.show()\n",
    "\n",
    "train_df[\"text_length\"].describe()\n"
   ]
  },
  {
   "cell_type": "markdown",
   "id": "104151a7",
   "metadata": {},
   "source": [
    "## 8. Sample examples"
   ]
  },
  {
   "cell_type": "code",
   "execution_count": null,
   "id": "a1df4050",
   "metadata": {},
   "outputs": [],
   "source": [
    "# View sample real and fake news\n",
    "print(\"📰 Example Real News\")\n",
    "display(train_df[train_df[\"label\"] == 0][[\"title\", \"text\"]].head(2))\n",
    "\n",
    "print(\"🧾 Example Fake News\")\n",
    "display(train_df[train_df[\"label\"] == 1][[\"title\", \"text\"]].head(2))\n"
   ]
  }
 ],
 "metadata": {
  "language_info": {
   "name": "python"
  }
 },
 "nbformat": 4,
 "nbformat_minor": 5
}
