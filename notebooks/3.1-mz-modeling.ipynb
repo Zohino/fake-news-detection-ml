{
 "cells": [
  {
   "cell_type": "markdown",
   "id": "ca1e4644",
   "metadata": {},
   "source": [
    "# Modeling\n",
    "\n",
    "## Imports and config"
   ]
  },
  {
   "cell_type": "code",
   "execution_count": 5,
   "id": "34ad265d",
   "metadata": {},
   "outputs": [
    {
     "name": "stdout",
     "output_type": "stream",
     "text": [
      "The autoreload extension is already loaded. To reload it, use:\n",
      "  %reload_ext autoreload\n"
     ]
    }
   ],
   "source": [
    "%load_ext autoreload\n",
    "%autoreload 2\n",
    "\n",
    "import src.modeling.train as training\n",
    "import src.modeling.predict as prediction"
   ]
  },
  {
   "cell_type": "code",
   "execution_count": 6,
   "id": "bdfa311b",
   "metadata": {},
   "outputs": [
    {
     "name": "stderr",
     "output_type": "stream",
     "text": [
      "[I 2025-08-14 21:31:26,499] A new study created in memory with name: no-name-36a888ca-3ae3-4231-a037-cc11099bc0f7\n"
     ]
    },
    {
     "name": "stdout",
     "output_type": "stream",
     "text": [
      "\u001b[32m2025-08-14 21:31:26.481\u001b[0m | \u001b[1mINFO    \u001b[0m | \u001b[36msrc.modeling.train\u001b[0m:\u001b[36mmain\u001b[0m:\u001b[36m5\u001b[0m - \u001b[1mLoading training and validation datasets...\u001b[0m\n",
      "\u001b[32m2025-08-14 21:31:26.496\u001b[0m | \u001b[1mINFO    \u001b[0m | \u001b[36msrc.modeling.train\u001b[0m:\u001b[36mmain\u001b[0m:\u001b[36m9\u001b[0m - \u001b[1mUsing separate validation set\u001b[0m\n",
      "Training samples: 8164\n",
      "Validation samples: 2041\n",
      "Training class distribution: {True: 4590, False: 3574}\n",
      "Validation class distribution: {True: 1147, False: 894}\n",
      "\u001b[32m2025-08-14 21:31:26.498\u001b[0m | \u001b[1mINFO    \u001b[0m | \u001b[36msrc.modeling.train\u001b[0m:\u001b[36mmain\u001b[0m:\u001b[36m28\u001b[0m - \u001b[1mRunning hyperparameter optimization...\u001b[0m\n",
      "\u001b[32m2025-08-14 21:31:26.498\u001b[0m | \u001b[1mINFO    \u001b[0m | \u001b[36msrc.modeling.optuna_optimization\u001b[0m:\u001b[36mfind_best_params\u001b[0m:\u001b[36m91\u001b[0m - \u001b[1mFinding optimal hyperparameters to fix overfitting...\u001b[0m\n"
     ]
    },
    {
     "name": "stderr",
     "output_type": "stream",
     "text": [
      "                                                                                   \r"
     ]
    },
    {
     "name": "stdout",
     "output_type": "stream",
     "text": [
      "[I 2025-08-14 21:31:26,712] Trial 0 finished with value: 0.6133575647432985 and parameters: {'max_features': 6000, 'min_df': 8, 'max_df': 0.85, 'ngram_max': 2, 'C': 0.1432249371823025}. Best is trial 0 with value: 0.6133575647432985.\n"
     ]
    },
    {
     "name": "stderr",
     "output_type": "stream",
     "text": [
      "Best trial: 1. Best value: 0.622083:   7%|▋         | 2/30 [00:00<00:05,  4.81it/s]"
     ]
    },
    {
     "name": "stdout",
     "output_type": "stream",
     "text": [
      "[I 2025-08-14 21:31:26,914] Trial 1 finished with value: 0.6220825852782765 and parameters: {'max_features': 5000, 'min_df': 3, 'max_df': 0.9, 'ngram_max': 2, 'C': 0.5105903209394755}. Best is trial 1 with value: 0.6220825852782765.\n"
     ]
    },
    {
     "name": "stderr",
     "output_type": "stream",
     "text": [
      "Best trial: 1. Best value: 0.622083:  10%|█         | 3/30 [00:00<00:07,  3.69it/s]"
     ]
    },
    {
     "name": "stdout",
     "output_type": "stream",
     "text": [
      "[I 2025-08-14 21:31:27,260] Trial 2 finished with value: 0.6114416475972541 and parameters: {'max_features': 4000, 'min_df': 8, 'max_df': 0.9, 'ngram_max': 1, 'C': 0.1519934830130981}. Best is trial 1 with value: 0.6220825852782765.\n"
     ]
    },
    {
     "name": "stderr",
     "output_type": "stream",
     "text": [
      "Best trial: 1. Best value: 0.622083:  13%|█▎        | 4/30 [00:01<00:08,  3.14it/s]"
     ]
    },
    {
     "name": "stdout",
     "output_type": "stream",
     "text": [
      "[I 2025-08-14 21:31:27,653] Trial 3 finished with value: 0.6089743589743589 and parameters: {'max_features': 5000, 'min_df': 4, 'max_df': 0.85, 'ngram_max': 1, 'C': 0.1955370866274525}. Best is trial 1 with value: 0.6220825852782765.\n"
     ]
    },
    {
     "name": "stderr",
     "output_type": "stream",
     "text": [
      "Best trial: 1. Best value: 0.622083:  17%|█▋        | 5/30 [00:01<00:08,  2.82it/s]"
     ]
    },
    {
     "name": "stdout",
     "output_type": "stream",
     "text": [
      "[I 2025-08-14 21:31:28,071] Trial 4 finished with value: 0.6098901098901099 and parameters: {'max_features': 8000, 'min_df': 3, 'max_df': 0.8, 'ngram_max': 1, 'C': 0.2858051065806936}. Best is trial 1 with value: 0.6220825852782765.\n"
     ]
    },
    {
     "name": "stderr",
     "output_type": "stream",
     "text": [
      "Best trial: 1. Best value: 0.622083:  20%|██        | 6/30 [00:02<00:10,  2.30it/s]"
     ]
    },
    {
     "name": "stdout",
     "output_type": "stream",
     "text": [
      "[I 2025-08-14 21:31:28,661] Trial 5 finished with value: 0.6118721461187214 and parameters: {'max_features': 9000, 'min_df': 4, 'max_df': 0.85, 'ngram_max': 2, 'C': 0.1112885317490573}. Best is trial 1 with value: 0.6220825852782765.\n"
     ]
    },
    {
     "name": "stderr",
     "output_type": "stream",
     "text": [
      "Best trial: 6. Best value: 0.623771:  23%|██▎       | 7/30 [00:03<00:13,  1.71it/s]"
     ]
    },
    {
     "name": "stdout",
     "output_type": "stream",
     "text": [
      "[I 2025-08-14 21:31:29,554] Trial 6 finished with value: 0.6237712243074174 and parameters: {'max_features': 8000, 'min_df': 4, 'max_df': 0.75, 'ngram_max': 2, 'C': 0.9239150319627247}. Best is trial 6 with value: 0.6237712243074174.\n"
     ]
    },
    {
     "name": "stderr",
     "output_type": "stream",
     "text": [
      "Best trial: 6. Best value: 0.623771:  27%|██▋       | 8/30 [00:03<00:14,  1.52it/s]"
     ]
    },
    {
     "name": "stdout",
     "output_type": "stream",
     "text": [
      "[I 2025-08-14 21:31:30,374] Trial 7 finished with value: 0.6180995475113122 and parameters: {'max_features': 9000, 'min_df': 4, 'max_df': 0.75, 'ngram_max': 2, 'C': 0.27551959649510765}. Best is trial 6 with value: 0.6237712243074174.\n"
     ]
    },
    {
     "name": "stderr",
     "output_type": "stream",
     "text": [
      "Best trial: 6. Best value: 0.623771:  30%|███       | 9/30 [00:04<00:14,  1.44it/s]"
     ]
    },
    {
     "name": "stdout",
     "output_type": "stream",
     "text": [
      "[I 2025-08-14 21:31:31,149] Trial 8 finished with value: 0.6135639508420574 and parameters: {'max_features': 4000, 'min_df': 5, 'max_df': 0.75, 'ngram_max': 2, 'C': 0.18145961353490248}. Best is trial 6 with value: 0.6237712243074174.\n"
     ]
    },
    {
     "name": "stderr",
     "output_type": "stream",
     "text": [
      "Best trial: 6. Best value: 0.623771:  33%|███▎      | 10/30 [00:05<00:14,  1.38it/s]"
     ]
    },
    {
     "name": "stdout",
     "output_type": "stream",
     "text": [
      "[I 2025-08-14 21:31:31,930] Trial 9 finished with value: 0.6116681859617138 and parameters: {'max_features': 8000, 'min_df': 4, 'max_df': 0.85, 'ngram_max': 2, 'C': 0.1530574436550018}. Best is trial 6 with value: 0.6237712243074174.\n"
     ]
    },
    {
     "name": "stderr",
     "output_type": "stream",
     "text": [
      "Best trial: 6. Best value: 0.623771:  37%|███▋      | 11/30 [00:05<00:12,  1.55it/s]"
     ]
    },
    {
     "name": "stdout",
     "output_type": "stream",
     "text": [
      "[I 2025-08-14 21:31:32,399] Trial 10 finished with value: 0.6229802513464991 and parameters: {'max_features': 10000, 'min_df': 6, 'max_df': 0.8, 'ngram_max': 1, 'C': 0.9635987665727251}. Best is trial 6 with value: 0.6237712243074174.\n"
     ]
    },
    {
     "name": "stderr",
     "output_type": "stream",
     "text": [
      "Best trial: 6. Best value: 0.623771:  40%|████      | 12/30 [00:06<00:10,  1.69it/s]"
     ]
    },
    {
     "name": "stdout",
     "output_type": "stream",
     "text": [
      "[I 2025-08-14 21:31:32,871] Trial 11 finished with value: 0.6235980260206371 and parameters: {'max_features': 10000, 'min_df': 6, 'max_df': 0.8, 'ngram_max': 1, 'C': 0.994668778677189}. Best is trial 6 with value: 0.6237712243074174.\n"
     ]
    },
    {
     "name": "stderr",
     "output_type": "stream",
     "text": [
      "Best trial: 6. Best value: 0.623771:  43%|████▎     | 13/30 [00:06<00:09,  1.81it/s]"
     ]
    },
    {
     "name": "stdout",
     "output_type": "stream",
     "text": [
      "[I 2025-08-14 21:31:33,330] Trial 12 finished with value: 0.6229802513464991 and parameters: {'max_features': 10000, 'min_df': 6, 'max_df': 0.75, 'ngram_max': 1, 'C': 0.9862926781296691}. Best is trial 6 with value: 0.6237712243074174.\n"
     ]
    },
    {
     "name": "stderr",
     "output_type": "stream",
     "text": [
      "Best trial: 6. Best value: 0.623771:  47%|████▋     | 14/30 [00:07<00:07,  2.22it/s]"
     ]
    },
    {
     "name": "stdout",
     "output_type": "stream",
     "text": [
      "[I 2025-08-14 21:31:33,549] Trial 13 finished with value: 0.6184629376989541 and parameters: {'max_features': 7000, 'min_df': 7, 'max_df': 0.8, 'ngram_max': 1, 'C': 0.568901602429936}. Best is trial 6 with value: 0.6237712243074174.\n"
     ]
    },
    {
     "name": "stderr",
     "output_type": "stream",
     "text": [
      "Best trial: 6. Best value: 0.623771:  50%|█████     | 15/30 [00:07<00:05,  2.57it/s]"
     ]
    },
    {
     "name": "stdout",
     "output_type": "stream",
     "text": [
      "[I 2025-08-14 21:31:33,790] Trial 14 finished with value: 0.618491921005386 and parameters: {'max_features': 8000, 'min_df': 5, 'max_df': 0.75, 'ngram_max': 2, 'C': 0.5914581388970384}. Best is trial 6 with value: 0.6237712243074174.\n"
     ]
    },
    {
     "name": "stderr",
     "output_type": "stream",
     "text": [
      "Best trial: 6. Best value: 0.623771:  53%|█████▎    | 16/30 [00:07<00:05,  2.45it/s]"
     ]
    },
    {
     "name": "stdout",
     "output_type": "stream",
     "text": [
      "[I 2025-08-14 21:31:34,246] Trial 15 finished with value: 0.6221218961625282 and parameters: {'max_features': 9000, 'min_df': 7, 'max_df': 0.8, 'ngram_max': 1, 'C': 0.7622684638746469}. Best is trial 6 with value: 0.6237712243074174.\n"
     ]
    },
    {
     "name": "stderr",
     "output_type": "stream",
     "text": [
      "Best trial: 6. Best value: 0.623771:  57%|█████▋    | 17/30 [00:08<00:04,  2.65it/s]"
     ]
    },
    {
     "name": "stdout",
     "output_type": "stream",
     "text": [
      "[I 2025-08-14 21:31:34,553] Trial 16 finished with value: 0.6123748862602366 and parameters: {'max_features': 7000, 'min_df': 5, 'max_df': 0.75, 'ngram_max': 1, 'C': 0.3939631282313527}. Best is trial 6 with value: 0.6237712243074174.\n"
     ]
    },
    {
     "name": "stderr",
     "output_type": "stream",
     "text": [
      "Best trial: 17. Best value: 0.624442:  60%|██████    | 18/30 [00:08<00:04,  2.55it/s]"
     ]
    },
    {
     "name": "stdout",
     "output_type": "stream",
     "text": [
      "[I 2025-08-14 21:31:34,982] Trial 17 finished with value: 0.6244424620874219 and parameters: {'max_features': 10000, 'min_df': 6, 'max_df': 0.8, 'ngram_max': 2, 'C': 0.7480307688858944}. Best is trial 17 with value: 0.6244424620874219.\n"
     ]
    },
    {
     "name": "stderr",
     "output_type": "stream",
     "text": [
      "Best trial: 17. Best value: 0.624442:  63%|██████▎   | 19/30 [00:08<00:04,  2.49it/s]"
     ]
    },
    {
     "name": "stdout",
     "output_type": "stream",
     "text": [
      "[I 2025-08-14 21:31:35,405] Trial 18 finished with value: 0.6210955183340878 and parameters: {'max_features': 9000, 'min_df': 7, 'max_df': 0.75, 'ngram_max': 2, 'C': 0.3986229170870397}. Best is trial 17 with value: 0.6244424620874219.\n"
     ]
    },
    {
     "name": "stderr",
     "output_type": "stream",
     "text": [
      "Best trial: 17. Best value: 0.624442:  67%|██████▋   | 20/30 [00:09<00:04,  2.38it/s]"
     ]
    },
    {
     "name": "stdout",
     "output_type": "stream",
     "text": [
      "[I 2025-08-14 21:31:35,867] Trial 19 finished with value: 0.6193258426966292 and parameters: {'max_features': 6000, 'min_df': 3, 'max_df': 0.8, 'ngram_max': 2, 'C': 0.7439090774446854}. Best is trial 17 with value: 0.6244424620874219.\n"
     ]
    },
    {
     "name": "stderr",
     "output_type": "stream",
     "text": [
      "Best trial: 17. Best value: 0.624442:  70%|███████   | 21/30 [00:09<00:03,  2.29it/s]"
     ]
    },
    {
     "name": "stdout",
     "output_type": "stream",
     "text": [
      "[I 2025-08-14 21:31:36,342] Trial 20 finished with value: 0.6219239373601789 and parameters: {'max_features': 8000, 'min_df': 5, 'max_df': 0.75, 'ngram_max': 2, 'C': 0.7412328596376342}. Best is trial 17 with value: 0.6244424620874219.\n"
     ]
    },
    {
     "name": "stderr",
     "output_type": "stream",
     "text": [
      "Best trial: 21. Best value: 0.626281:  73%|███████▎  | 22/30 [00:10<00:03,  2.25it/s]"
     ]
    },
    {
     "name": "stdout",
     "output_type": "stream",
     "text": [
      "[I 2025-08-14 21:31:36,803] Trial 21 finished with value: 0.6262806236080178 and parameters: {'max_features': 10000, 'min_df': 6, 'max_df': 0.8, 'ngram_max': 2, 'C': 0.8615055537259534}. Best is trial 21 with value: 0.6262806236080178.\n"
     ]
    },
    {
     "name": "stderr",
     "output_type": "stream",
     "text": [
      "Best trial: 21. Best value: 0.626281:  77%|███████▋  | 23/30 [00:10<00:03,  2.22it/s]"
     ]
    },
    {
     "name": "stdout",
     "output_type": "stream",
     "text": [
      "[I 2025-08-14 21:31:37,271] Trial 22 finished with value: 0.6241640659830584 and parameters: {'max_features': 10000, 'min_df': 6, 'max_df': 0.8, 'ngram_max': 2, 'C': 0.7525132146813432}. Best is trial 21 with value: 0.6262806236080178.\n"
     ]
    },
    {
     "name": "stderr",
     "output_type": "stream",
     "text": [
      "Best trial: 21. Best value: 0.626281:  80%|████████  | 24/30 [00:11<00:02,  2.04it/s]"
     ]
    },
    {
     "name": "stdout",
     "output_type": "stream",
     "text": [
      "[I 2025-08-14 21:31:37,851] Trial 23 finished with value: 0.618983355825461 and parameters: {'max_features': 10000, 'min_df': 6, 'max_df': 0.8, 'ngram_max': 2, 'C': 0.4650164072865693}. Best is trial 21 with value: 0.6262806236080178.\n"
     ]
    },
    {
     "name": "stderr",
     "output_type": "stream",
     "text": [
      "Best trial: 21. Best value: 0.626281:  83%|████████▎ | 25/30 [00:12<00:02,  1.69it/s]"
     ]
    },
    {
     "name": "stdout",
     "output_type": "stream",
     "text": [
      "[I 2025-08-14 21:31:38,681] Trial 24 finished with value: 0.6243243243243243 and parameters: {'max_features': 10000, 'min_df': 7, 'max_df': 0.8, 'ngram_max': 2, 'C': 0.6382610176591599}. Best is trial 21 with value: 0.6262806236080178.\n"
     ]
    },
    {
     "name": "stderr",
     "output_type": "stream",
     "text": [
      "Best trial: 21. Best value: 0.626281:  87%|████████▋ | 26/30 [00:13<00:02,  1.50it/s]"
     ]
    },
    {
     "name": "stdout",
     "output_type": "stream",
     "text": [
      "[I 2025-08-14 21:31:39,521] Trial 25 finished with value: 0.6242670275146595 and parameters: {'max_features': 9000, 'min_df': 7, 'max_df': 0.85, 'ngram_max': 2, 'C': 0.6212383600596382}. Best is trial 21 with value: 0.6262806236080178.\n"
     ]
    },
    {
     "name": "stderr",
     "output_type": "stream",
     "text": [
      "Best trial: 21. Best value: 0.626281:  90%|█████████ | 27/30 [00:13<00:02,  1.41it/s]"
     ]
    },
    {
     "name": "stdout",
     "output_type": "stream",
     "text": [
      "[I 2025-08-14 21:31:40,328] Trial 26 finished with value: 0.6188747731397459 and parameters: {'max_features': 10000, 'min_df': 7, 'max_df': 0.8, 'ngram_max': 2, 'C': 0.3594792715619455}. Best is trial 21 with value: 0.6262806236080178.\n"
     ]
    },
    {
     "name": "stderr",
     "output_type": "stream",
     "text": [
      "Best trial: 21. Best value: 0.626281:  93%|█████████▎| 28/30 [00:14<00:01,  1.32it/s]"
     ]
    },
    {
     "name": "stdout",
     "output_type": "stream",
     "text": [
      "[I 2025-08-14 21:31:41,200] Trial 27 finished with value: 0.6160071942446043 and parameters: {'max_features': 9000, 'min_df': 8, 'max_df': 0.85, 'ngram_max': 2, 'C': 0.6352907062248229}. Best is trial 21 with value: 0.6262806236080178.\n"
     ]
    },
    {
     "name": "stderr",
     "output_type": "stream",
     "text": [
      "Best trial: 21. Best value: 0.626281:  97%|█████████▋| 29/30 [00:14<00:00,  1.63it/s]"
     ]
    },
    {
     "name": "stdout",
     "output_type": "stream",
     "text": [
      "[I 2025-08-14 21:31:41,480] Trial 28 finished with value: 0.6206896551724138 and parameters: {'max_features': 10000, 'min_df': 7, 'max_df': 0.8, 'ngram_max': 2, 'C': 0.4708993777330889}. Best is trial 21 with value: 0.6262806236080178.\n"
     ]
    },
    {
     "name": "stderr",
     "output_type": "stream",
     "text": [
      "Best trial: 21. Best value: 0.626281: 100%|██████████| 30/30 [00:15<00:00,  1.97it/s]\n"
     ]
    },
    {
     "name": "stdout",
     "output_type": "stream",
     "text": [
      "[I 2025-08-14 21:31:41,695] Trial 29 finished with value: 0.6217803886127429 and parameters: {'max_features': 9000, 'min_df': 8, 'max_df': 0.85, 'ngram_max': 2, 'C': 0.24073215771765588}. Best is trial 21 with value: 0.6262806236080178.\n",
      "\u001b[32m2025-08-14 21:31:41.703\u001b[0m | \u001b[1mINFO    \u001b[0m | \u001b[36msrc.modeling.optuna_optimization\u001b[0m:\u001b[36mfind_best_params\u001b[0m:\u001b[36m98\u001b[0m - \u001b[1mBest validation F1: 0.6263\u001b[0m\n",
      "\u001b[32m2025-08-14 21:31:41.704\u001b[0m | \u001b[1mINFO    \u001b[0m | \u001b[36msrc.modeling.optuna_optimization\u001b[0m:\u001b[36mfind_best_params\u001b[0m:\u001b[36m99\u001b[0m - \u001b[1mBest parameters: {'max_features': 10000, 'min_df': 6, 'max_df': 0.8, 'ngram_max': 2, 'C': 0.8615055537259534}\u001b[0m\n",
      "\u001b[32m2025-08-14 21:31:41.704\u001b[0m | \u001b[1mINFO    \u001b[0m | \u001b[36msrc.modeling.train\u001b[0m:\u001b[36mmain\u001b[0m:\u001b[36m32\u001b[0m - \u001b[1mTraining with optimized parameters...\u001b[0m\n",
      "\u001b[32m2025-08-14 21:31:41.704\u001b[0m | \u001b[1mINFO    \u001b[0m | \u001b[36msrc.modeling.modeling\u001b[0m:\u001b[36mtrain_model\u001b[0m:\u001b[36m147\u001b[0m - \u001b[1mUsing hybrid model with text and numerical features\u001b[0m\n",
      "\u001b[32m2025-08-14 21:31:41.704\u001b[0m | \u001b[1mINFO    \u001b[0m | \u001b[36msrc.modeling.modeling\u001b[0m:\u001b[36mtrain_model\u001b[0m:\u001b[36m161\u001b[0m - \u001b[1mTraining hybrid...\u001b[0m\n",
      "\u001b[32m2025-08-14 21:31:43.937\u001b[0m | \u001b[1mINFO    \u001b[0m | \u001b[36msrc.modeling.modeling\u001b[0m:\u001b[36mtrain_model\u001b[0m:\u001b[36m220\u001b[0m - \u001b[1mhybrid CV F1: 0.6399 ± 0.0117\u001b[0m\n",
      "\u001b[32m2025-08-14 21:31:43.938\u001b[0m | \u001b[1mINFO    \u001b[0m | \u001b[36msrc.modeling.modeling\u001b[0m:\u001b[36mtrain_model\u001b[0m:\u001b[36m234\u001b[0m - \u001b[1mhybrid - Val F1: 0.6288\u001b[0m\n",
      "\u001b[32m2025-08-14 21:31:43.939\u001b[0m | \u001b[1mINFO    \u001b[0m | \u001b[36msrc.modeling.modeling\u001b[0m:\u001b[36mtrain_model\u001b[0m:\u001b[36m161\u001b[0m - \u001b[1mTraining text_only...\u001b[0m\n",
      "\u001b[32m2025-08-14 21:31:47.244\u001b[0m | \u001b[1mINFO    \u001b[0m | \u001b[36msrc.modeling.modeling\u001b[0m:\u001b[36mtrain_model\u001b[0m:\u001b[36m220\u001b[0m - \u001b[1mtext_only CV F1: 0.6252 ± 0.0055\u001b[0m\n",
      "\u001b[32m2025-08-14 21:31:47.245\u001b[0m | \u001b[1mINFO    \u001b[0m | \u001b[36msrc.modeling.modeling\u001b[0m:\u001b[36mtrain_model\u001b[0m:\u001b[36m234\u001b[0m - \u001b[1mtext_only - Val F1: 0.6233\u001b[0m\n",
      "\u001b[32m2025-08-14 21:31:47.246\u001b[0m | \u001b[1mINFO    \u001b[0m | \u001b[36msrc.modeling.modeling\u001b[0m:\u001b[36mtrain_model\u001b[0m:\u001b[36m161\u001b[0m - \u001b[1mTraining ensemble...\u001b[0m\n",
      "\u001b[32m2025-08-14 21:31:51.224\u001b[0m | \u001b[1mINFO    \u001b[0m | \u001b[36msrc.modeling.modeling\u001b[0m:\u001b[36mtrain_model\u001b[0m:\u001b[36m220\u001b[0m - \u001b[1mensemble CV F1: 0.6403 ± 0.0087\u001b[0m\n",
      "\u001b[32m2025-08-14 21:31:51.225\u001b[0m | \u001b[1mINFO    \u001b[0m | \u001b[36msrc.modeling.modeling\u001b[0m:\u001b[36mtrain_model\u001b[0m:\u001b[36m234\u001b[0m - \u001b[1mensemble - Val F1: 0.6345\u001b[0m\n",
      "\u001b[32m2025-08-14 21:31:51.225\u001b[0m | \u001b[1mINFO    \u001b[0m | \u001b[36msrc.modeling.modeling\u001b[0m:\u001b[36mtrain_model\u001b[0m:\u001b[36m244\u001b[0m - \u001b[1mBest model: ensemble with score: 0.6345\u001b[0m\n",
      "\u001b[32m2025-08-14 21:31:51.526\u001b[0m | \u001b[1mINFO    \u001b[0m | \u001b[36msrc.modeling.modeling\u001b[0m:\u001b[36mtrain_model\u001b[0m:\u001b[36m250\u001b[0m - \u001b[1mBest model saved to /home/martinzoha/projects/fake-news-detection-ml/models/trained/fake_news_detector.pkl\u001b[0m\n",
      "\n",
      "============================================================\n",
      "TRAINING RESULTS\n",
      "============================================================\n",
      "train_accuracy       : 0.8349\n",
      "train_precision      : 0.8639\n",
      "train_recall         : 0.8383\n",
      "train_f1             : 0.8510\n",
      "train_auc            : 0.9071\n",
      "val_accuracy         : 0.5919\n",
      "val_precision        : 0.6387\n",
      "val_recall           : 0.6303\n",
      "val_f1               : 0.6345\n",
      "val_auc              : 0.6217\n",
      "cv_f1_mean           : 0.6403\n",
      "cv_f1_std            : 0.0087\n",
      "\n",
      "============================================================\n",
      "PERFORMANCE ANALYSIS\n",
      "============================================================\n",
      "Train-Val F1 gap: 0.2165\n",
      "\u001b[32m2025-08-14 21:31:51.528\u001b[0m | \u001b[33m\u001b[1mWARNING \u001b[0m | \u001b[36msrc.modeling.train\u001b[0m:\u001b[36mmain\u001b[0m:\u001b[36m51\u001b[0m - \u001b[33m\u001b[1mHigh overfitting detected!\u001b[0m\n",
      "   Recommendations:\n",
      "   - Increase regularization (lower C parameter)\n",
      "   - Reduce max_features in TF-IDF\n",
      "   - Add more training data\n",
      "Performance needs improvement\n",
      "   Suggestions:\n",
      "   - Check data quality\n",
      "   - Try ensemble methods\n",
      "   - Feature engineering\n",
      "   - Hyperparameter tuning\n",
      "\n",
      "📈 IMPROVEMENT OVER BASELINE:\n",
      "   Baseline F1: 0.6778\n",
      "   Current F1:  0.6345\n",
      "   Improvement: +-0.0433 (-6.4%)\n",
      "Limited improvement - consider other approaches\n",
      "Cross-validation F1: 0.6403 ± 0.0087\n",
      "\u001b[32m2025-08-14 21:31:51.529\u001b[0m | \u001b[32m\u001b[1mSUCCESS \u001b[0m | \u001b[36msrc.modeling.train\u001b[0m:\u001b[36mmain\u001b[0m:\u001b[36m94\u001b[0m - \u001b[32m\u001b[1mStable model performance across folds\u001b[0m\n",
      "\u001b[32m2025-08-14 21:31:51.529\u001b[0m | \u001b[1mINFO    \u001b[0m | \u001b[36msrc.modeling.train\u001b[0m:\u001b[36mmain\u001b[0m:\u001b[36m97\u001b[0m - \u001b[1mTraining complete! Model saved to: /home/martinzoha/projects/fake-news-detection-ml/models/trained/fake_news_detector.pkl\u001b[0m\n",
      "Next run predictions:\n",
      "   1. make predict\n",
      "   2. notebook modeling cell prediction\n"
     ]
    }
   ],
   "source": [
    "training.main()"
   ]
  },
  {
   "cell_type": "code",
   "execution_count": 7,
   "id": "66eb7f39",
   "metadata": {},
   "outputs": [
    {
     "name": "stdout",
     "output_type": "stream",
     "text": [
      "\u001b[32m2025-08-14 21:32:06.911\u001b[0m | \u001b[1mINFO    \u001b[0m | \u001b[36msrc.modeling.predict\u001b[0m:\u001b[36mmain\u001b[0m:\u001b[36m9\u001b[0m - \u001b[1mLoading test data...\u001b[0m\n",
      "\u001b[32m2025-08-14 21:32:07.314\u001b[0m | \u001b[1mINFO    \u001b[0m | \u001b[36msrc.modeling.predict\u001b[0m:\u001b[36mmain\u001b[0m:\u001b[36m20\u001b[0m - \u001b[1mPredictions saved to /home/martinzoha/projects/fake-news-detection-ml/models/predictions/test_predictions.csv\u001b[0m\n",
      "\u001b[32m2025-08-14 21:32:07.316\u001b[0m | \u001b[1mINFO    \u001b[0m | \u001b[36msrc.modeling.predict\u001b[0m:\u001b[36mmain\u001b[0m:\u001b[36m21\u001b[0m - \u001b[1mClass distribution:\n",
      "label\n",
      "True     1373\n",
      "False    1171\n",
      "Name: count, dtype: int64\u001b[0m\n"
     ]
    }
   ],
   "source": [
    "prediction.main()"
   ]
  }
 ],
 "metadata": {
  "kernelspec": {
   "display_name": ".venv",
   "language": "python",
   "name": "python3"
  },
  "language_info": {
   "codemirror_mode": {
    "name": "ipython",
    "version": 3
   },
   "file_extension": ".py",
   "mimetype": "text/x-python",
   "name": "python",
   "nbconvert_exporter": "python",
   "pygments_lexer": "ipython3",
   "version": "3.12.3"
  }
 },
 "nbformat": 4,
 "nbformat_minor": 5
}
