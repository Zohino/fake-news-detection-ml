{
 "cells": [
  {
   "cell_type": "markdown",
   "id": "60520801",
   "metadata": {},
   "source": [
    "# Modeling\n",
    "\n",
    "## Train model"
   ]
  },
  {
   "cell_type": "code",
   "execution_count": null,
   "id": "0847fa63",
   "metadata": {},
   "outputs": [
    {
     "name": "stdout",
     "output_type": "stream",
     "text": [
      "\u001b[32m2025-08-07 22:05:48.356\u001b[0m | \u001b[1mINFO    \u001b[0m | \u001b[36msrc.modeling.train\u001b[0m:\u001b[36mmain\u001b[0m:\u001b[36m9\u001b[0m - \u001b[1mLoading training and validation datasets...\u001b[0m\n",
      "\u001b[32m2025-08-07 22:05:49.289\u001b[0m | \u001b[1mINFO    \u001b[0m | \u001b[36msrc.modeling.modeling\u001b[0m:\u001b[36mtrain_model\u001b[0m:\u001b[36m54\u001b[0m - \u001b[1mModel saved to /home/martinzoha/projects/fake-news-detection-ml/models/trained/fake_news_detector.pkl\u001b[0m\n",
      "\u001b[32m2025-08-07 22:05:49.290\u001b[0m | \u001b[1mINFO    \u001b[0m | \u001b[36msrc.modeling.train\u001b[0m:\u001b[36mmain\u001b[0m:\u001b[36m21\u001b[0m - \u001b[1mTraining complete:\u001b[0m\n",
      "\u001b[32m2025-08-07 22:05:49.290\u001b[0m | \u001b[1mINFO    \u001b[0m | \u001b[36msrc.modeling.train\u001b[0m:\u001b[36mmain\u001b[0m:\u001b[36m23\u001b[0m - \u001b[1mtrain_accuracy: 0.7552\u001b[0m\n",
      "\u001b[32m2025-08-07 22:05:49.290\u001b[0m | \u001b[1mINFO    \u001b[0m | \u001b[36msrc.modeling.train\u001b[0m:\u001b[36mmain\u001b[0m:\u001b[36m23\u001b[0m - \u001b[1mtrain_precision: 0.7403\u001b[0m\n",
      "\u001b[32m2025-08-07 22:05:49.290\u001b[0m | \u001b[1mINFO    \u001b[0m | \u001b[36msrc.modeling.train\u001b[0m:\u001b[36mmain\u001b[0m:\u001b[36m23\u001b[0m - \u001b[1mtrain_recall: 0.8691\u001b[0m\n",
      "\u001b[32m2025-08-07 22:05:49.290\u001b[0m | \u001b[1mINFO    \u001b[0m | \u001b[36msrc.modeling.train\u001b[0m:\u001b[36mmain\u001b[0m:\u001b[36m23\u001b[0m - \u001b[1mtrain_f1: 0.7995\u001b[0m\n",
      "\u001b[32m2025-08-07 22:05:49.290\u001b[0m | \u001b[1mINFO    \u001b[0m | \u001b[36msrc.modeling.train\u001b[0m:\u001b[36mmain\u001b[0m:\u001b[36m23\u001b[0m - \u001b[1mtrain_auc: 0.8383\u001b[0m\n",
      "\u001b[32m2025-08-07 22:05:49.290\u001b[0m | \u001b[1mINFO    \u001b[0m | \u001b[36msrc.modeling.train\u001b[0m:\u001b[36mmain\u001b[0m:\u001b[36m23\u001b[0m - \u001b[1mval_accuracy: 0.6147\u001b[0m\n",
      "\u001b[32m2025-08-07 22:05:49.290\u001b[0m | \u001b[1mINFO    \u001b[0m | \u001b[36msrc.modeling.train\u001b[0m:\u001b[36mmain\u001b[0m:\u001b[36m23\u001b[0m - \u001b[1mval_precision: 0.6195\u001b[0m\n",
      "\u001b[32m2025-08-07 22:05:49.290\u001b[0m | \u001b[1mINFO    \u001b[0m | \u001b[36msrc.modeling.train\u001b[0m:\u001b[36mmain\u001b[0m:\u001b[36m23\u001b[0m - \u001b[1mval_recall: 0.7482\u001b[0m\n",
      "\u001b[32m2025-08-07 22:05:49.290\u001b[0m | \u001b[1mINFO    \u001b[0m | \u001b[36msrc.modeling.train\u001b[0m:\u001b[36mmain\u001b[0m:\u001b[36m23\u001b[0m - \u001b[1mval_f1: 0.6778\u001b[0m\n",
      "\u001b[32m2025-08-07 22:05:49.290\u001b[0m | \u001b[1mINFO    \u001b[0m | \u001b[36msrc.modeling.train\u001b[0m:\u001b[36mmain\u001b[0m:\u001b[36m23\u001b[0m - \u001b[1mval_auc: 0.6520\u001b[0m\n"
     ]
    }
   ],
   "source": [
    "from src.modeling.train import main as train_main\n",
    "\n",
    "%load_ext autoreload\n",
    "%autoreload 2\n",
    "\n",
    "train_main()\n"
   ]
  }
 ],
 "metadata": {
  "kernelspec": {
   "display_name": ".venv",
   "language": "python",
   "name": "python3"
  },
  "language_info": {
   "codemirror_mode": {
    "name": "ipython",
    "version": 3
   },
   "file_extension": ".py",
   "mimetype": "text/x-python",
   "name": "python",
   "nbconvert_exporter": "python",
   "pygments_lexer": "ipython3",
   "version": "3.12.3"
  }
 },
 "nbformat": 4,
 "nbformat_minor": 5
}
