{
 "cells": [
  {
   "cell_type": "markdown",
   "id": "2c76d114",
   "metadata": {},
   "source": [
    "# Data cleaning and feature creation\n",
    "\n",
    "## 1. Imports and config\n"
   ]
  },
  {
   "cell_type": "code",
   "execution_count": null,
   "id": "93a99c89",
   "metadata": {},
   "outputs": [],
   "source": [
    "import pandas as pd\n",
    "from src.config import DATA_FILES\n",
    "\n",
    "%load_ext autoreload\n",
    "%autoreload 2\n"
   ]
  },
  {
   "cell_type": "markdown",
   "id": "56c4c70e",
   "metadata": {},
   "source": [
    "## 2. Load raw data"
   ]
  },
  {
   "cell_type": "code",
   "execution_count": null,
   "id": "a0bfcc37",
   "metadata": {},
   "outputs": [],
   "source": [
    "\n",
    "train_df = pd.read_csv(DATA_FILES[\"train_raw\"])\n",
    "test_df = pd.read_csv(DATA_FILES[\"test_raw\"])\n",
    "\n",
    "# Normalize column names\n",
    "train_df.columns = train_df.columns.str.strip().str.lower()\n",
    "test_df.columns = test_df.columns.str.strip().str.lower()"
   ]
  },
  {
   "cell_type": "markdown",
   "id": "847e529a",
   "metadata": {},
   "source": [
    "## 3. Preprocessing"
   ]
  },
  {
   "cell_type": "code",
   "execution_count": 4,
   "id": "af19cb6a",
   "metadata": {},
   "outputs": [
    {
     "name": "stdout",
     "output_type": "stream",
     "text": [
      "✅ Cleaned datasets saved to data/processed\n"
     ]
    }
   ],
   "source": [
    "def clean_text(text):\n",
    "    if pd.isnull(text):\n",
    "        return \"\"\n",
    "    return str(text).lower().strip()\n",
    "\n",
    "train_df[\"cleaned_text\"] = train_df[\"statement\"].apply(clean_text)\n",
    "test_df[\"cleaned_text\"] = test_df[\"statement\"].apply(clean_text)\n",
    "\n",
    "# ## 3️⃣ Save to Processed Folder\n",
    "train_df.to_csv(DATA_FILES[\"train_processed\"], index=False)\n",
    "test_df.to_csv(DATA_FILES[\"test_processed\"], index=False)\n",
    "\n",
    "print(\"✅ Cleaned datasets saved to data/processed\")"
   ]
  }
 ],
 "metadata": {
  "kernelspec": {
   "display_name": ".venv",
   "language": "python",
   "name": "python3"
  },
  "language_info": {
   "codemirror_mode": {
    "name": "ipython",
    "version": 3
   },
   "file_extension": ".py",
   "mimetype": "text/x-python",
   "name": "python",
   "nbconvert_exporter": "python",
   "pygments_lexer": "ipython3",
   "version": "3.12.3"
  }
 },
 "nbformat": 4,
 "nbformat_minor": 5
}
